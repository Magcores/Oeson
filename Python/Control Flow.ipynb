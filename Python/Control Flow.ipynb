{
 "cells": [
  {
   "cell_type": "code",
   "execution_count": 1,
   "id": "53309814",
   "metadata": {},
   "outputs": [
    {
     "name": "stdout",
     "output_type": "stream",
     "text": [
      "Longest word: demasiada\n"
     ]
    }
   ],
   "source": [
    "#1. Write a program to find the longest word in a given sentence.\n",
    "sentence = \"Tendo demasiada hambre\"\n",
    "words = sentence.split()\n",
    "longest_word = max(words, key=len)\n",
    "print(\"Longest word:\", longest_word)"
   ]
  },
  {
   "cell_type": "code",
   "execution_count": 38,
   "id": "7268df09",
   "metadata": {},
   "outputs": [
    {
     "name": "stdout",
     "output_type": "stream",
     "text": [
      "First 5 prime numbers: [2, 3, 5, 7, 11]\n"
     ]
    }
   ],
   "source": [
    "#2. Write a program to generate the first n prime numbers.\n",
    "n = 5  # Number of prime numbers needed\n",
    "primes = []\n",
    "num = 2 #Avoid First prime number!\n",
    "while len(primes) < n:\n",
    "    is_prime = True\n",
    "    for i in range(2, int(num ** 0.5) + 1):\n",
    "        if num % i == 0:\n",
    "            is_prime = False\n",
    "            break\n",
    "    if is_prime:\n",
    "        primes.append(num)\n",
    "    num += 1\n",
    "print(\"First\", n, \"prime numbers:\", primes)"
   ]
  },
  {
   "cell_type": "code",
   "execution_count": 18,
   "id": "11c6dd3f",
   "metadata": {},
   "outputs": [
    {
     "name": "stdout",
     "output_type": "stream",
     "text": [
      "Binary representation of 10 is 0b1010\n"
     ]
    }
   ],
   "source": [
    "#3. Write a program to convert a decimal number to its binary representation.\n",
    "decimal_number = 10\n",
    "binary_representation = bin(decimal_number)\n",
    "print(\"Binary representation of\", decimal_number, \"is\", binary_representation)"
   ]
  },
  {
   "cell_type": "code",
   "execution_count": 4,
   "id": "b01270bf",
   "metadata": {},
   "outputs": [
    {
     "name": "stdout",
     "output_type": "stream",
     "text": [
      "Sorted list by age: [{'name': 'Jane', 'age': 22}, {'name': 'John', 'age': 25}, {'name': 'Doe', 'age': 30}]\n"
     ]
    }
   ],
   "source": [
    "#4. Write a program to sort a list of dictionaries by a specified key.\n",
    "list_of_dicts = [{'name': 'John', 'age': 25}, {'name': 'Jane', 'age': 22}, {'name': 'Doe', 'age': 30}]\n",
    "sorted_list = sorted(list_of_dicts, key=lambda x: x['age'])\n",
    "print(\"Sorted list by age:\", sorted_list)\n"
   ]
  },
  {
   "cell_type": "code",
   "execution_count": 5,
   "id": "352fa8e4",
   "metadata": {},
   "outputs": [
    {
     "name": "stdout",
     "output_type": "stream",
     "text": [
      "GCD of 56 and 98 is 14\n"
     ]
    }
   ],
   "source": [
    "#5. Write a program to calculate the greatest common divisor (GCD) of two numbers.\n",
    "a = 56\n",
    "b = 98\n",
    "while b:\n",
    "    a, b = b, a % b\n",
    "gcd = a\n",
    "print(\"GCD of 56 and 98 is\", gcd)\n"
   ]
  },
  {
   "cell_type": "code",
   "execution_count": 6,
   "id": "b9731f74",
   "metadata": {},
   "outputs": [
    {
     "name": "stdout",
     "output_type": "stream",
     "text": [
      "First 10 Fibonacci numbers: [0, 1, 1, 2, 3, 5, 8, 13, 21, 34]\n"
     ]
    }
   ],
   "source": [
    "#6. Write a program to generate a list of the first n Fibonacci numbers.\n",
    "n = 10\n",
    "fibonacci = [0, 1]\n",
    "for i in range(2, n):\n",
    "    next_number = fibonacci[-1] + fibonacci[-2]\n",
    "    fibonacci.append(next_number)\n",
    "print(\"First\", n, \"Fibonacci numbers:\", fibonacci)\n"
   ]
  },
  {
   "cell_type": "code",
   "execution_count": 7,
   "id": "287de7c5",
   "metadata": {},
   "outputs": [
    {
     "name": "stdout",
     "output_type": "stream",
     "text": [
      "Intersection of lists: [4, 5]\n"
     ]
    }
   ],
   "source": [
    "#7. Write a program to find the intersection of two lists.\n",
    "list1 = [1, 2, 3, 4, 5]\n",
    "list2 = [4, 5, 6, 7, 8]\n",
    "intersection = [element for element in list1 if element in list2]\n",
    "print(\"Intersection of lists:\", intersection)\n"
   ]
  },
  {
   "cell_type": "code",
   "execution_count": 8,
   "id": "12c2a41f",
   "metadata": {},
   "outputs": [
    {
     "name": "stdout",
     "output_type": "stream",
     "text": [
      "Merged sorted list: [1, 2, 3, 4, 5, 6]\n"
     ]
    }
   ],
   "source": [
    "#8. Write a program to merge two sorted lists into a single sorted list.\n",
    "list1 = [1, 3, 5]\n",
    "list2 = [2, 4, 6]\n",
    "merged_list = sorted(list1 + list2)\n",
    "print(\"Merged sorted list:\", merged_list)\n"
   ]
  },
  {
   "cell_type": "code",
   "execution_count": 9,
   "id": "5f7b6fc3",
   "metadata": {},
   "outputs": [
    {
     "name": "stdout",
     "output_type": "stream",
     "text": [
      "Dot product of the vectors: 32\n"
     ]
    }
   ],
   "source": [
    "#9. Write a program to calculate the dot product of two vectors.\n",
    "vector1 = [1, 2, 3]\n",
    "vector2 = [4, 5, 6]\n",
    "dot_product = sum(x * y for x, y in zip(vector1, vector2))\n",
    "print(\"Dot product of the vectors:\", dot_product)\n"
   ]
  },
  {
   "cell_type": "code",
   "execution_count": 10,
   "id": "6295ef53",
   "metadata": {},
   "outputs": [
    {
     "name": "stdout",
     "output_type": "stream",
     "text": [
      "Addition: 15\n",
      "Subtraction: 5\n",
      "Multiplication: 50\n",
      "Division: 2.0\n"
     ]
    }
   ],
   "source": [
    "#10. Write a program to implement a simple calculator that can perform basic arithmetic operations (+, -, *, /).\n",
    "def calculator(a, b, operation):\n",
    "    if operation == '+':\n",
    "        return a + b\n",
    "    elif operation == '-':\n",
    "        return a - b\n",
    "    elif operation == '*':\n",
    "        return a * b\n",
    "    elif operation == '/':\n",
    "        return a / b\n",
    "    else:\n",
    "        return \"Invalid operation\"\n",
    "\n",
    "a = 10\n",
    "b = 5\n",
    "print(\"Addition:\", calculator(a, b, '+'))\n",
    "print(\"Subtraction:\", calculator(a, b, '-'))\n",
    "print(\"Multiplication:\", calculator(a, b, '*'))\n",
    "print(\"Division:\", calculator(a, b, '/'))\n"
   ]
  }
 ],
 "metadata": {
  "hide_input": false,
  "kernelspec": {
   "display_name": "Python 3 (ipykernel)",
   "language": "python",
   "name": "python3"
  },
  "language_info": {
   "codemirror_mode": {
    "name": "ipython",
    "version": 3
   },
   "file_extension": ".py",
   "mimetype": "text/x-python",
   "name": "python",
   "nbconvert_exporter": "python",
   "pygments_lexer": "ipython3",
   "version": "3.9.13"
  },
  "varInspector": {
   "cols": {
    "lenName": 16,
    "lenType": 16,
    "lenVar": 40
   },
   "kernels_config": {
    "python": {
     "delete_cmd_postfix": "",
     "delete_cmd_prefix": "del ",
     "library": "var_list.py",
     "varRefreshCmd": "print(var_dic_list())"
    },
    "r": {
     "delete_cmd_postfix": ") ",
     "delete_cmd_prefix": "rm(",
     "library": "var_list.r",
     "varRefreshCmd": "cat(var_dic_list()) "
    }
   },
   "types_to_exclude": [
    "module",
    "function",
    "builtin_function_or_method",
    "instance",
    "_Feature"
   ],
   "window_display": false
  }
 },
 "nbformat": 4,
 "nbformat_minor": 5
}
