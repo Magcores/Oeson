{
 "cells": [
  {
   "cell_type": "code",
   "execution_count": 1,
   "id": "737f5cd7",
   "metadata": {},
   "outputs": [],
   "source": [
    "import numpy as np\n",
    "import pandas as pd"
   ]
  },
  {
   "cell_type": "markdown",
   "id": "bd1bbad0",
   "metadata": {},
   "source": [
    "# NumPy Practice Questions"
   ]
  },
  {
   "cell_type": "code",
   "execution_count": 2,
   "id": "760caef6",
   "metadata": {},
   "outputs": [
    {
     "name": "stdout",
     "output_type": "stream",
     "text": [
      "Array1: [ 1  2  3  4  5  6  7  8  9 10]\n",
      "Addition: [11 22 33 44 55]\n",
      "Subtraction: [ 9 18 27 36 45]\n",
      "Multiplication: [ 10  40  90 160 250]\n",
      "Division: [10. 10. 10. 10. 10.]\n",
      "First three elements: [1 2 3]\n",
      "Reshaped array:\n",
      " [[1 2 3]\n",
      " [4 5 6]]\n",
      "Mean: 5.0\n",
      "Median: 5.0\n",
      "Standard Deviation: 2.581988897471611\n",
      "Solution to the system of equations: [2. 3.]\n",
      "Selected Elements: [4 8]\n"
     ]
    }
   ],
   "source": [
    "# 1. Array Creation: Create a NumPy array of integers from 1 to 10.\n",
    "array1 = np.arange(1, 11)\n",
    "print(\"Array1:\", array1)\n",
    "\n",
    "# 2. Array Operations: Perform element-wise addition, subtraction, multiplication, and division on two NumPy arrays.\n",
    "array2 = np.array([10, 20, 30, 40, 50])\n",
    "array3 = np.array([1, 2, 3, 4, 5])\n",
    "addition = array2 + array3\n",
    "subtraction = array2 - array3\n",
    "multiplication = array2 * array3\n",
    "division = array2 / array3\n",
    "print(\"Addition:\", addition)\n",
    "print(\"Subtraction:\", subtraction)\n",
    "print(\"Multiplication:\", multiplication)\n",
    "print(\"Division:\", division)\n",
    "\n",
    "# 3. Array Slicing: Extract the first three elements from a NumPy array.\n",
    "array4 = np.array([1, 2, 3, 4, 5])\n",
    "first_three = array4[:3]\n",
    "print(\"First three elements:\", first_three)\n",
    "\n",
    "# 4. Array Reshaping: Reshape a 1D NumPy array into a 2D array with 2 rows and 3 columns.\n",
    "array5 = np.arange(1, 7)\n",
    "reshaped_array = array5.reshape(2, 3)\n",
    "print(\"Reshaped array:\\n\", reshaped_array)\n",
    "\n",
    "# 5. Array Aggregation: Calculate the mean, median, and standard deviation of a NumPy array.\n",
    "array6 = np.array([1, 2, 3, 4, 5, 6, 7, 8, 9])\n",
    "mean_value = np.mean(array6)\n",
    "median_value = np.median(array6)\n",
    "std_deviation = np.std(array6)\n",
    "print(\"Mean:\", mean_value)\n",
    "print(\"Median:\", median_value)\n",
    "print(\"Standard Deviation:\", std_deviation)\n",
    "\n",
    "# 6. Solve the system of equations 3x + y = 9 and x + 2y = 8.\n",
    "A = np.array([[3, 1], [1, 2]])\n",
    "b = np.array([9, 8])\n",
    "x = np.linalg.solve(A, b)\n",
    "print(\"Solution to the system of equations:\", x)  # Output: [2. 3.]\n",
    "\n",
    "# 7. Fancy Indexing: Select specific elements from a 2D array.\n",
    "arr15 = np.array([[1, 2, 3],\n",
    "                  [4, 5, 6],\n",
    "                  [7, 8, 9]])\n",
    "row_indices = np.array([1, 2])\n",
    "column_indices = np.array([0, 1])\n",
    "selected_elements = arr15[(row_indices, column_indices)]\n",
    "print(\"Selected Elements:\", selected_elements)  # Output: [4 8]"
   ]
  },
  {
   "cell_type": "markdown",
   "id": "ecf770b5",
   "metadata": {},
   "source": [
    "# Pandas Practice Questions"
   ]
  },
  {
   "cell_type": "code",
   "execution_count": 3,
   "id": "aba51c4c",
   "metadata": {},
   "outputs": [
    {
     "name": "stdout",
     "output_type": "stream",
     "text": [
      "DataFrame:\n",
      "    Column1 Column2\n",
      "0        1       A\n",
      "1        2       B\n",
      "2        3       C\n",
      "3        4       D\n",
      "DataFrame with new column and Sum:\n",
      "    Column1 Column2  Column3  Sum\n",
      "0        1       A       10   11\n",
      "1        2       B       20   22\n",
      "2        3       C       30   33\n",
      "3        4       D       40   44\n",
      "Selected Rows where Column1 > 2:\n",
      "    Column1 Column2  Column3  Sum\n",
      "2        3       C       30   33\n",
      "3        4       D       40   44\n",
      "Selected Columns:\n",
      "    Column1  Sum\n",
      "0        1   11\n",
      "1        2   22\n",
      "2        3   33\n",
      "3        4   44\n",
      "Grouped mean:\n",
      "           Values\n",
      "Category        \n",
      "A           15.0\n",
      "B           35.0\n",
      "DataFrame after dropping missing values:\n",
      "    Column1 Column2\n",
      "0      1.0       A\n",
      "1      2.0       B\n",
      "DataFrame after filling missing values:\n",
      "    Column1  Column2\n",
      "0      1.0        A\n",
      "1      2.0        B\n",
      "2      0.0        C\n",
      "3      4.0  Unknown\n"
     ]
    }
   ],
   "source": [
    "# 1. DataFrame Creation: Create a pandas DataFrame from a dictionary of lists, where each list represents a column.\n",
    "data = {\n",
    "    'Column1': [1, 2, 3, 4],\n",
    "    'Column2': ['A', 'B', 'C', 'D']\n",
    "}\n",
    "df = pd.DataFrame(data)\n",
    "print(\"DataFrame:\\n\", df)\n",
    "\n",
    "# 2. DataFrame Operations: Add a new column to an existing DataFrame. Perform element-wise operations between two columns.\n",
    "df['Column3'] = [10, 20, 30, 40]\n",
    "df['Sum'] = df['Column1'] + df['Column3']\n",
    "print(\"DataFrame with new column and Sum:\\n\", df)\n",
    "\n",
    "# 3. Data Selection: Select rows based on a condition. Select specific columns from a DataFrame.\n",
    "# Select rows where Column1 is greater than 2\n",
    "selected_rows = df[df['Column1'] > 2]\n",
    "print(\"Selected Rows where Column1 > 2:\\n\", selected_rows)\n",
    "selected_columns = df[['Column1', 'Sum']]\n",
    "print(\"Selected Columns:\\n\", selected_columns)\n",
    "\n",
    "# 4. Data Aggregation: Group the data in a DataFrame based on a categorical column and calculate the mean of each group.\n",
    "data = {\n",
    "    'Category': ['A', 'A', 'B', 'B'],\n",
    "    'Values': [10, 20, 30, 40]\n",
    "}\n",
    "df = pd.DataFrame(data)\n",
    "grouped_mean = df.groupby('Category').mean()\n",
    "print(\"Grouped mean:\\n\", grouped_mean)\n",
    "\n",
    "# 5. Data Cleaning: Handle missing values by either removing or replacing them with appropriate values.\n",
    "data_with_nan = {\n",
    "    'Column1': [1, 2, np.nan, 4],\n",
    "    'Column2': ['A', 'B', 'C', np.nan]\n",
    "}\n",
    "df_with_nan = pd.DataFrame(data_with_nan)\n",
    "df_dropped = df_with_nan.dropna()\n",
    "print(\"DataFrame after dropping missing values:\\n\", df_dropped)\n",
    "df_filled = df_with_nan.fillna({'Column1': 0, 'Column2': 'Unknown'})\n",
    "print(\"DataFrame after filling missing values:\\n\", df_filled)"
   ]
  }
 ],
 "metadata": {
  "hide_input": false,
  "kernelspec": {
   "display_name": "Python 3 (ipykernel)",
   "language": "python",
   "name": "python3"
  },
  "language_info": {
   "codemirror_mode": {
    "name": "ipython",
    "version": 3
   },
   "file_extension": ".py",
   "mimetype": "text/x-python",
   "name": "python",
   "nbconvert_exporter": "python",
   "pygments_lexer": "ipython3",
   "version": "3.9.13"
  },
  "varInspector": {
   "cols": {
    "lenName": 16,
    "lenType": 16,
    "lenVar": 40
   },
   "kernels_config": {
    "python": {
     "delete_cmd_postfix": "",
     "delete_cmd_prefix": "del ",
     "library": "var_list.py",
     "varRefreshCmd": "print(var_dic_list())"
    },
    "r": {
     "delete_cmd_postfix": ") ",
     "delete_cmd_prefix": "rm(",
     "library": "var_list.r",
     "varRefreshCmd": "cat(var_dic_list()) "
    }
   },
   "types_to_exclude": [
    "module",
    "function",
    "builtin_function_or_method",
    "instance",
    "_Feature"
   ],
   "window_display": false
  }
 },
 "nbformat": 4,
 "nbformat_minor": 5
}
