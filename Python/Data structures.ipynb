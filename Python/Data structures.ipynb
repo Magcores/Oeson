{
 "cells": [
  {
   "cell_type": "markdown",
   "id": "c8c59c1a",
   "metadata": {},
   "source": [
    "# Practice"
   ]
  },
  {
   "cell_type": "markdown",
   "id": "b4575246",
   "metadata": {},
   "source": [
    "Lists:\n",
    "Question - Appending and Removing Elements: Create an empty list called my_list. Append\n",
    "the numbers 1, 2, and 3 to my_list. Then remove the number 2 from the list."
   ]
  },
  {
   "cell_type": "code",
   "execution_count": 1,
   "id": "07c275b6",
   "metadata": {},
   "outputs": [
    {
     "name": "stdout",
     "output_type": "stream",
     "text": [
      "[1, 3]\n"
     ]
    }
   ],
   "source": [
    "my_list = []\n",
    "my_list.append(1)\n",
    "my_list.append(2)\n",
    "my_list.append(3)\n",
    "my_list.remove(2)\n",
    "print(my_list)"
   ]
  },
  {
   "cell_type": "markdown",
   "id": "f215863d",
   "metadata": {},
   "source": [
    "Question- Accessing Elements: Create a list called fruits containing the strings \"apple\",\n",
    "\"banana\", \"cherry\", \"date\". Print the second element of the list."
   ]
  },
  {
   "cell_type": "code",
   "execution_count": 2,
   "id": "6fa136f4",
   "metadata": {},
   "outputs": [
    {
     "name": "stdout",
     "output_type": "stream",
     "text": [
      "banana\n"
     ]
    }
   ],
   "source": [
    "fruits = [\"apple\", \"banana\", \"cherry\", \"date\"]\n",
    "print(fruits[1])"
   ]
  },
  {
   "cell_type": "markdown",
   "id": "13ff01ce",
   "metadata": {},
   "source": [
    "Question- Slicing: Create a list called numbers containing the numbers from 1 to 10. Print a\n",
    "slice of the list containing elements from the third element to the sixth element."
   ]
  },
  {
   "cell_type": "code",
   "execution_count": 3,
   "id": "2979fa0e",
   "metadata": {},
   "outputs": [
    {
     "name": "stdout",
     "output_type": "stream",
     "text": [
      "[3, 4, 5, 6]\n"
     ]
    }
   ],
   "source": [
    "numbers = list(range(1, 11))\n",
    "print(numbers[2:6])"
   ]
  },
  {
   "cell_type": "markdown",
   "id": "15cd1985",
   "metadata": {},
   "source": [
    "Sets\n",
    "Question - Adding and Removing Elements: Create an empty set called my_set. Add the\n",
    "numbers 1, 2, and 3 to my_set. Then remove the number 2 from the set."
   ]
  },
  {
   "cell_type": "code",
   "execution_count": 4,
   "id": "d294f1f6",
   "metadata": {},
   "outputs": [
    {
     "name": "stdout",
     "output_type": "stream",
     "text": [
      "{1, 3}\n"
     ]
    }
   ],
   "source": [
    "my_set = set()\n",
    "my_set.update([1, 2, 3])\n",
    "my_set.remove(2)\n",
    "print(my_set)"
   ]
  },
  {
   "cell_type": "markdown",
   "id": "27a6cce0",
   "metadata": {},
   "source": [
    "Question - Operations: Create two sets called set1 and set2, each containing a few\n",
    "numbers. Print the union, intersection, and difference of the two sets."
   ]
  },
  {
   "cell_type": "code",
   "execution_count": 5,
   "id": "f0319900",
   "metadata": {},
   "outputs": [
    {
     "name": "stdout",
     "output_type": "stream",
     "text": [
      "{1, 2, 3, 4, 5, 6}\n",
      "set()\n",
      "{1, 2, 3}\n"
     ]
    }
   ],
   "source": [
    "set1 = {1, 2, 3}\n",
    "set2 = {4, 5, 6}\n",
    "\n",
    "print(set1.union(set2))\n",
    "print(set1.intersection(set2))\n",
    "print(set1.difference(set2))"
   ]
  },
  {
   "cell_type": "markdown",
   "id": "9caff182",
   "metadata": {},
   "source": [
    "Tuples\n",
    "Question - Accessing Elements: Create a tuple called coordinates containing the latitude\n",
    "and longitude of a location (e.g., (40.7128, -74.0060) for New York City). Print the latitude\n",
    "and longitude separately."
   ]
  },
  {
   "cell_type": "code",
   "execution_count": 6,
   "id": "224716d8",
   "metadata": {},
   "outputs": [
    {
     "name": "stdout",
     "output_type": "stream",
     "text": [
      "latitude: 40.7128\n",
      "longitude: -74.006\n"
     ]
    }
   ],
   "source": [
    "coordinates = (40.7128, -74.0060)\n",
    "\n",
    "print(\"latitude:\", coordinates[0])\n",
    "print(\"longitude:\", coordinates[1])"
   ]
  },
  {
   "cell_type": "markdown",
   "id": "eb2a3249",
   "metadata": {},
   "source": [
    "Question - Packing and Unpacking: Create a tuple called person containing information\n",
    "about a person, such as their name, age, and city. Then unpack the tuple into individual\n",
    "variables."
   ]
  },
  {
   "cell_type": "code",
   "execution_count": 7,
   "id": "20392931",
   "metadata": {},
   "outputs": [
    {
     "name": "stdout",
     "output_type": "stream",
     "text": [
      "Name: Eustaquio\n",
      "Age: 40\n",
      "City: Villanueva de las Macarenas\n"
     ]
    }
   ],
   "source": [
    "person = (\"Eustaquio\", 40, \"Villanueva de las Macarenas\")\n",
    "name, age, city = person\n",
    "print(\"Name:\",name)\n",
    "print(\"Age:\",age)\n",
    "print(\"City:\",city)"
   ]
  }
 ],
 "metadata": {
  "hide_input": false,
  "kernelspec": {
   "display_name": "Python 3 (ipykernel)",
   "language": "python",
   "name": "python3"
  },
  "language_info": {
   "codemirror_mode": {
    "name": "ipython",
    "version": 3
   },
   "file_extension": ".py",
   "mimetype": "text/x-python",
   "name": "python",
   "nbconvert_exporter": "python",
   "pygments_lexer": "ipython3",
   "version": "3.9.13"
  },
  "varInspector": {
   "cols": {
    "lenName": 16,
    "lenType": 16,
    "lenVar": 40
   },
   "kernels_config": {
    "python": {
     "delete_cmd_postfix": "",
     "delete_cmd_prefix": "del ",
     "library": "var_list.py",
     "varRefreshCmd": "print(var_dic_list())"
    },
    "r": {
     "delete_cmd_postfix": ") ",
     "delete_cmd_prefix": "rm(",
     "library": "var_list.r",
     "varRefreshCmd": "cat(var_dic_list()) "
    }
   },
   "types_to_exclude": [
    "module",
    "function",
    "builtin_function_or_method",
    "instance",
    "_Feature"
   ],
   "window_display": false
  }
 },
 "nbformat": 4,
 "nbformat_minor": 5
}
